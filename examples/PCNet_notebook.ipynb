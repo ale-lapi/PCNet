{
 "cells": [
  {
   "attachments": {},
   "cell_type": "markdown",
   "metadata": {},
   "source": [
    "# PCNet"
   ]
  },
  {
   "cell_type": "code",
   "execution_count": null,
   "metadata": {},
   "outputs": [],
   "source": [
    "import os\n",
    "import networkx as nx\n",
    "from PCNet import PCNet_network as pcn\n",
    "from PCNet import PCNet_parser as pp"
   ]
  },
  {
   "attachments": {},
   "cell_type": "markdown",
   "metadata": {},
   "source": [
    "## Paths\n",
    "\n",
    "The next cell is used to give the names to the paths that will be used later.\n",
    "\n",
    "Running the following cell you will create a directory: *data*.\n",
    "\n",
    "It will contain the following folders:\n",
    "\n",
    "- *pubmed*: it is the folder in which you must put your *.xml.gz* files to be parsed.\n",
    "\n",
    "- *csv*: it is the folder in which the *.csv* files returned by the parse will be saved.\n",
    "\n",
    "- *graph*: it is the folder in which the *.gexf* file corresponding to the citation network will be saved."
   ]
  },
  {
   "cell_type": "code",
   "execution_count": null,
   "metadata": {},
   "outputs": [],
   "source": [
    "# Set paths for data in relation to your current directory\n",
    "\n",
    "if not os.path.exists('../data/pubmed/'):\n",
    "    pubmed_path = os.makedirs('../data/pubmed/')\n",
    "else:\n",
    "    pubmed_path = '../data/pubmed/'\n",
    "\n",
    "if not os.path.exists('../data/csv/'):\n",
    "    csv_path = os.makedirs('/..data/csv/')\n",
    "else:\n",
    "    csv_path = '../data/csv/'\n",
    "\n",
    "if not os.path.exists('../data/graph/'):\n",
    "    graph_path = os.makedirs('/data/graph/')\n",
    "else:\n",
    "    graph_path = '../data/graph/'"
   ]
  },
  {
   "attachments": {},
   "cell_type": "markdown",
   "metadata": {},
   "source": [
    "## Configuration\n",
    "- **mesh**: it is the MeSH of the research area you want to study. MeSH (Medical Subject Headings) is a controlled vocabulary used for indexing and organizing biomedical literature. To search for MeSH terms related to a certain word, you can use the [MeSH Browser](https://meshb.nlm.nih.gov/search) provided by the National Library of Medicine (NLM).\n",
    "\n",
    "    If ```mesh = ''``` the parse will be performed over all the articles;\n",
    "- **term_mesh**: it is the word corresponding to the MeSH. \n",
    "    It will be used to store the graph as *term_mesh*.gexf.\n",
    "    \n",
    "    If ```term_mesh = ''``` the graph will be saved as *pubmed*.gexf.\n",
    "\n",
    "- **info**: it is a list containing the information you want to extract with the parse. They will be added to the    nodes as attributes.\n",
    "\n",
    "    By default it is ```info = ['title', 'abstract', 'date', 'authors', 'journal', 'keywords']```, i.e. all the possible information. \n",
    "\n",
    "    *PMID* and *References* are always got through the parse since they are necessary to create the graph.\n",
    "    \n",
    "    If you need less information you can modify the list.\n",
    "    Note: the order of the words in the list is important.\n",
    "\n",
    "- **connected**: it is a boolean variable.\n",
    "\n",
    "    If ```connected = True``` the graph will be weakly connected, which means tha will be kept only the largest connected component of the graph.\n",
    "\n",
    "- **keep_unknown_nodes**: it is a boolean variable.\n",
    "\n",
    "    If ```keep_unknown_nodes = False``` the graph will contain only the nodes whose informtion are known because the related articles were parsed.\n",
    "\n",
    "    If ```keep_unknown_nodes = True``` the graph will contain all the nodes, including those of which we know only the *PMID* and the *citations*.\n",
    "    "
   ]
  },
  {
   "cell_type": "code",
   "execution_count": null,
   "metadata": {},
   "outputs": [],
   "source": [
    "# MeSH settings\n",
    "mesh = 'D000086382'         # As an example, here is set MeSH 'D000086382'\n",
    "term_mesh = 'Covid-19'      # corresponding to the term 'Covid-19'\n",
    "if term_mesh == '':\n",
    "    term_mesh = 'pubmed'\n",
    "\n",
    "# Set info you want to extract (default: ['title', 'abstract', 'date', 'authors', 'journal', 'keywords'])\n",
    "info = ['title', 'abstract', 'date', 'authors', 'journal', 'keywords']\n",
    "\n",
    "# Network settings\n",
    "connected = True\n",
    "keep_unknown_nodes = False"
   ]
  },
  {
   "attachments": {},
   "cell_type": "markdown",
   "metadata": {},
   "source": [
    "## Parser\n",
    "\n",
    "The next step is the parse of the files. The parameters of the function are the following: \n",
    "\n",
    "- **path_xml**: path to *.xml.gz* to be parsed.\n",
    "\n",
    "    If you put *.xml.gz* files in the **pubmed** folder, ```path_xml = pubmed_path```.\n",
    "\n",
    "- **path_csv**: path where *.csv* files are saved.\n",
    "\n",
    "    Default: ***csv*** folder, ```path_csv = csv_path```.\n",
    "\n",
    "- **MeSH**: if specified in the configuration, ```MeSH = mesh```.\n",
    "\n",
    "    If not specified, by default ```MeSH = ''```.\n",
    "\n",
    "- **informations**: if specified in the configuraton, ```informations = info```.\n",
    "\n",
    "    If not specified, by default ```informations = ['title', 'abstract', 'date', 'authors', 'journal', 'keywords']```."
   ]
  },
  {
   "cell_type": "code",
   "execution_count": null,
   "metadata": {},
   "outputs": [],
   "source": [
    "# Parse the xml files and save informations in the csv files\n",
    "pp.xml_parser(path_xml=pubmed_path, path_csv=csv_path, MeSH=mesh, informations=info)"
   ]
  },
  {
   "attachments": {},
   "cell_type": "markdown",
   "metadata": {},
   "source": [
    "## Dataframes\n",
    "\n",
    "The next cell will transform the *.csv* files into *pandas dataframes*.\n",
    "\n",
    "- **path_csv**: path where *.csv* files are stored.\n",
    "\n",
    "    Should be coherent with the precedent choice.\n",
    "\n",
    "- **type_of_df**: it can be *links* or *nodes*.\n",
    "\n",
    "    If ```type_of_df='links'``` the function will create a links dataframe with two columns: *source* and *target*.\n",
    "\n",
    "    If ```type_of_df='nodes'``` the function will create a nodes dataframe. In this case the columns are set in according to the informations extracted during the parse with the **columns** parameter. To do so it should be set ```columns=info```. As before if not specified, by default ```columns = ['title', 'abstract', 'date', 'authors', 'journal', 'keywords']```.\n"
   ]
  },
  {
   "cell_type": "code",
   "execution_count": null,
   "metadata": {},
   "outputs": [],
   "source": [
    "# Create dataframes from csv files\n",
    "df_links = pcn.csv_to_dataframe(path_csv=csv_path, type_of_df='links')\n",
    "df_nodes = pcn.csv_to_dataframe(path_csv=csv_path, type_of_df='nodes', columns=info)"
   ]
  },
  {
   "attachments": {},
   "cell_type": "markdown",
   "metadata": {},
   "source": [
    "## Graph\n",
    "\n",
    "Once you have the dataframes you can create the graph with the function in the next cell.\n",
    "\n",
    "- **df_links** and **df_nodes**: dataframes just created.\n",
    "\n",
    "\n",
    "- **connected_graph**: it is a boolean variable. Default: True.\n",
    "\n",
    "    If ```connected_graph = True``` the graph will be weakly connected, which means tha will be kept only the largest connected component of the graph.\n",
    "\n",
    "    If ```connected_graph = False``` the graph will contain all the nodes.\n",
    "\n",
    "    If specified in the configuation cell, ```connected_graph = connnected```.\n",
    "\n",
    "- **unknown_nodes**: it is a boolean variable. Default: False.\n",
    "\n",
    "    If ```unknown_nodes = False``` the graph will contain only the nodes whose informtion are known because the related articles were parsed.\n",
    "\n",
    "    If ```unknown_nodes = True``` the graph will contain all the nodes, including those of which we know only the *PMID* and the *citations*.\n",
    "\n",
    "    If specified in the configuation cell, ```unknown_nodes = keep_unknown_nodes```."
   ]
  },
  {
   "cell_type": "code",
   "execution_count": null,
   "metadata": {},
   "outputs": [],
   "source": [
    "# Create the graph from the dataframes\n",
    "G = pcn.df_to_graph(df_links, df_nodes, connected_graph=connected, unknown_nodes=keep_unknown_nodes)"
   ]
  },
  {
   "attachments": {},
   "cell_type": "markdown",
   "metadata": {},
   "source": [
    "## Save the graph\n",
    "\n",
    "In order to save the graph you should specify:\n",
    "\n",
    "- **path_graph**: path where the graph *.gexf* files is stored.\n",
    "\n",
    "    If specified in the configuration cell: ```path_graph = graph_path + term_mesh + '.gexf' ```\n",
    "\n",
    "- **term_mesh**: it will give the name to the graph, saved as *term_mesh*.gexf.\n",
    "\n",
    "    If it is not specified, by default ```term_mesh = pubmed```."
   ]
  },
  {
   "cell_type": "code",
   "execution_count": null,
   "metadata": {},
   "outputs": [],
   "source": [
    "# Save the graph as a .gexf file with the name specified in configuration cell\n",
    "path_graph = graph_path + term_mesh + '.gexf'\n",
    "nx.write_gexf(G, path_graph)"
   ]
  },
  {
   "attachments": {},
   "cell_type": "markdown",
   "metadata": {},
   "source": [
    "## Import a graph\n",
    "\n",
    "Once you saved your graphs, may you'd like to import the graph in this notebook again, in order to perform an analysis or to modify data: \n",
    "\n",
    "- If you want to import a graph you can simply use the *networkx* function **read_gexf** with the path to graph as argument.\n",
    "\n",
    "- If you need to work on dataframes you can obtain them in the same format of the ones created with the **PCNet** tool using the *nodes_to_df* and *links_to_df* functions imported with ```PCNet_network.py```.\n",
    "\n",
    "> :warning: with large networks running functions in the following cell could be very time consuming. If you saved csv files corresponding to the network you need it could be faster to obtain the graph again from them. "
   ]
  },
  {
   "cell_type": "code",
   "execution_count": null,
   "metadata": {},
   "outputs": [],
   "source": [
    "# Convert a graph from a .gexf file to a networkx graph\n",
    "graph = 'pubmed.gexf' \n",
    "G = nx.read_gexf(graph_path + graph)\n",
    "\n",
    "# # Convert a graph from a .gexf file to pandas dataframes\n",
    "df_nodes = pcn.nodes_to_df(graph_path + graph)\n",
    "df_edges = pcn.links_to_df(graph_path + graph)"
   ]
  }
 ],
 "metadata": {
  "kernelspec": {
   "display_name": "Python 3",
   "language": "python",
   "name": "python3"
  },
  "language_info": {
   "codemirror_mode": {
    "name": "ipython",
    "version": 3
   },
   "file_extension": ".py",
   "mimetype": "text/x-python",
   "name": "python",
   "nbconvert_exporter": "python",
   "pygments_lexer": "ipython3",
   "version": "3.9.13"
  },
  "orig_nbformat": 4
 },
 "nbformat": 4,
 "nbformat_minor": 2
}
